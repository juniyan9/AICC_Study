{
 "cells": [
  {
   "cell_type": "markdown",
   "id": "a2b75c81",
   "metadata": {},
   "source": [
    "# 데이터 준비 및 나누기"
   ]
  },
  {
   "cell_type": "markdown",
   "id": "b8f161df",
   "metadata": {},
   "source": [
    "임포트할 거 임포트"
   ]
  },
  {
   "cell_type": "code",
   "execution_count": 8,
   "id": "3082fa71",
   "metadata": {},
   "outputs": [
    {
     "data": {
      "text/plain": [
       "PassengerId\n",
       "1      0.0\n",
       "2      1.0\n",
       "3      1.0\n",
       "4      1.0\n",
       "5      0.0\n",
       "      ... \n",
       "887    0.0\n",
       "888    1.0\n",
       "889    1.0\n",
       "890    0.0\n",
       "891    0.0\n",
       "Name: Sex_encode, Length: 891, dtype: float64"
      ]
     },
     "execution_count": 8,
     "metadata": {},
     "output_type": "execute_result"
    }
   ],
   "source": [
    "# 데이터 읽기 위해 판다스 import\n",
    "import pandas as pd\n",
    "\n",
    "train = pd.read_csv(\"data/train_titanic.csv\", index_col = \"PassengerId\")\n",
    "\n",
    "# 새로운 칼럼 Sex_encode 만들고 남자 0, 여자 1 주기\n",
    "train.loc[train[\"Sex\"] == \"male\", \"Sex_encode\"] = 0\n",
    "train.loc[train[\"Sex\"] == \"female\", \"Sex_encode\"] = 1\n",
    "# 확인\n",
    "train[\"Sex_encode\"]"
   ]
  },
  {
   "cell_type": "code",
   "execution_count": 9,
   "id": "67cc8f33",
   "metadata": {},
   "outputs": [],
   "source": [
    "# 독립변수와 종속변수 나눔\n",
    "data = train[[\"Pclass(F)\", \"Pclass(B)\", \"Pclass(E)\", \"Sex_encode\", \"Single\", \"FamilySize\"]]\n",
    "target = train[['Survived']]\n",
    "\n",
    "# train_test 데이터 나누기 (임포트부터)\n",
    "from sklearn.model_selection import train_test_split\n",
    "\n",
    "X_train, X_test, y_train, y_test = train_test_split(\n",
    "    data, target, test_size = 0.2, random_state=42)"
   ]
  },
  {
   "cell_type": "code",
   "execution_count": 12,
   "id": "173b5bf0",
   "metadata": {},
   "outputs": [
    {
     "data": {
      "text/plain": [
       "GridSearchCV(estimator=DecisionTreeClassifier(random_state=42), n_jobs=-1,\n",
       "             param_grid={'min_impurity_decrease': [0.0001, 0.0002, 0.0003,\n",
       "                                                   0.0004, 0.0005]})"
      ]
     },
     "execution_count": 12,
     "metadata": {},
     "output_type": "execute_result"
    }
   ],
   "source": [
    "# 파라미터에 최소불순도 차이를 임의로 지정\n",
    "# 이걸 할려면 먼저 imort할 거 import\n",
    "# 의사결정나무 돌리고 그거에 대해 그리드 서치 할 거임\n",
    "from sklearn.tree import DecisionTreeClassifier\n",
    "from sklearn.model_selection import GridSearchCV\n",
    "\n",
    "params = {'min_impurity_decrease' : [0.0001, 0.0002, 0.0003, 0.0004, 0.0005]}\n",
    "# (min impurity decrease: 여기에 설정한 값 이상으로 불순도 감소할 경우 노드 분할)\n",
    "\n",
    "# 그리드 서치를 불러다 놓고 학습도 시킴\n",
    "gs = GridSearchCV(DecisionTreeClassifier(random_state=42), params, n_jobs=-1)\n",
    "gs.fit(X_train, y_train)"
   ]
  },
  {
   "cell_type": "code",
   "execution_count": 13,
   "id": "05e0c2b0",
   "metadata": {},
   "outputs": [
    {
     "data": {
      "text/plain": [
       "0.8160112359550562"
      ]
     },
     "execution_count": 13,
     "metadata": {},
     "output_type": "execute_result"
    }
   ],
   "source": [
    "# best_estimator_를 사용하여 가장 좋은 성능을 낸 모델 반환\n",
    "dt = gs.best_estimator_\n",
    "# 점수도 찍어봄\n",
    "dt.score(X_train, y_train)\n",
    "\n",
    "# aha!: .fit이나 .score 다음 () 안에 X_train, y_train 같은 게 들어가는구나 "
   ]
  },
  {
   "cell_type": "code",
   "execution_count": 15,
   "id": "95c5a89d",
   "metadata": {},
   "outputs": [
    {
     "data": {
      "text/plain": [
       "{'min_impurity_decrease': 0.0003}"
      ]
     },
     "execution_count": 15,
     "metadata": {},
     "output_type": "execute_result"
    }
   ],
   "source": [
    "# best_params_ 통해 가장 좋은 성능 낸 파라미터 찾음\n",
    "\n",
    "gs.best_params_"
   ]
  },
  {
   "cell_type": "markdown",
   "id": "f136e282",
   "metadata": {},
   "source": [
    "#### 각 매개변수에서 수행한 교차검증 평균 점수 확인"
   ]
  },
  {
   "cell_type": "code",
   "execution_count": 16,
   "id": "1d79ce95",
   "metadata": {},
   "outputs": [
    {
     "data": {
      "text/plain": [
       "array([0.79771496, 0.79771496, 0.79912341, 0.79912341, 0.79912341])"
      ]
     },
     "execution_count": 16,
     "metadata": {},
     "output_type": "execute_result"
    }
   ],
   "source": [
    "# 확인\n",
    "gs.cv_results_['mean_test_score']\n",
    "# .cv_results_ : 파라미터 조합 별 결과조회"
   ]
  },
  {
   "cell_type": "markdown",
   "id": "898771d4",
   "metadata": {},
   "source": [
    "#### 평균 점수에서 가장 큰 값 구하기"
   ]
  },
  {
   "cell_type": "code",
   "execution_count": 18,
   "id": "6e31e032",
   "metadata": {},
   "outputs": [
    {
     "data": {
      "text/plain": [
       "{'min_impurity_decrease': 0.0003}"
      ]
     },
     "execution_count": 18,
     "metadata": {},
     "output_type": "execute_result"
    }
   ],
   "source": [
    "# numpy 활용해서 구하네\n",
    "import numpy as np\n",
    "\n",
    "# .argmax() 내장함수 활용 -> 변수에 넣어주고, 그리드 서치 내장함수 중 .cv_results_ 활용, 파라미터 값 중 '가장 큰 값' 찾음\n",
    "best_index = np.argmax(gs.cv_results_['mean_test_score'])\n",
    "gs.cv_results_['params'][best_index]"
   ]
  },
  {
   "cell_type": "markdown",
   "id": "578e5aff",
   "metadata": {},
   "source": [
    "### 더 복잡한 매개변수 조합 탐색"
   ]
  },
  {
   "cell_type": "code",
   "execution_count": 7,
   "id": "0c14e540",
   "metadata": {},
   "outputs": [],
   "source": [
    "# 파라미터에 최소불순도차이,max_depth, min_samples_split을 넣어줌\n",
    "params = {'min_impurity_decrease' : np.arange(0.0001, 0.001, 0.0001),\n",
    "         'max_depth': range(5, 20, 1),\n",
    "         'min_sample_split': range(2, 100, 10)\n",
    "         }"
   ]
  },
  {
   "cell_type": "code",
   "execution_count": 19,
   "id": "0ff713b5",
   "metadata": {},
   "outputs": [
    {
     "data": {
      "text/plain": [
       "GridSearchCV(estimator=DecisionTreeClassifier(random_state=42), n_jobs=-1,\n",
       "             param_grid={'min_impurity_decrease': [0.0001, 0.0002, 0.0003,\n",
       "                                                   0.0004, 0.0005]})"
      ]
     },
     "execution_count": 19,
     "metadata": {},
     "output_type": "execute_result"
    }
   ],
   "source": [
    "# gs에 또 학습시킴\n",
    "gs = GridSearchCV(DecisionTreeClassifier(random_state=42, params, n_jobs=-1))\n",
    "gs.fit(X_train,y_train)"
   ]
  },
  {
   "cell_type": "code",
   "execution_count": 20,
   "id": "7df79d06",
   "metadata": {},
   "outputs": [
    {
     "data": {
      "text/plain": [
       "{'min_impurity_decrease': 0.0003}"
      ]
     },
     "execution_count": 20,
     "metadata": {},
     "output_type": "execute_result"
    }
   ],
   "source": [
    "# 가장 좋은 파라미터 조합 찾음\n",
    "gs.best_params_"
   ]
  },
  {
   "cell_type": "code",
   "execution_count": 21,
   "id": "aaa48f81",
   "metadata": {},
   "outputs": [
    {
     "data": {
      "text/plain": [
       "0.7991234117994681"
      ]
     },
     "execution_count": 21,
     "metadata": {},
     "output_type": "execute_result"
    }
   ],
   "source": [
    "# 교차검증 평균 점수 찾기\n",
    "np.max(gs.cv_results_['mean_test_score'])"
   ]
  },
  {
   "cell_type": "code",
   "execution_count": 23,
   "id": "d96957f7",
   "metadata": {},
   "outputs": [
    {
     "data": {
      "text/plain": [
       "array([9, 8, 9, 4, 5, 7, 3, 6, 7, 1])"
      ]
     },
     "execution_count": 23,
     "metadata": {},
     "output_type": "execute_result"
    }
   ],
   "source": [
    "# scipy에서 uniform, randint 임포트\n",
    "# 0부터 10까지 랜덤한 정수 고르고 하나의 변수에 넣어줌\n",
    "from scipy.stats import uniform, randint\n",
    "rgen = randint(0,10)\n",
    "\n",
    "# .rvs()로 무작위 표본 생성\n",
    "rgen.rvs(10)"
   ]
  },
  {
   "cell_type": "code",
   "execution_count": 5,
   "id": "2cdd1fba",
   "metadata": {},
   "outputs": [],
   "source": [
    "# 샘플링 갯수를 늘리고 중복값 제거, 고르게 가져오는 거 확인\n",
    "np.unique(rgen.rvs(1000), return_counts = True)\n",
    "# rvs: Random Value Sampling\n",
    "# return_counts = True: 값들의 빈도가 담긴 array를 리턴"
   ]
  },
  {
   "cell_type": "code",
   "execution_count": 6,
   "id": "d3da795d",
   "metadata": {},
   "outputs": [],
   "source": [
    "# 0 ~ 1 사이의 10개 실수를 무작위 추출\n",
    "# uniform() 함수 활용\n",
    "ugen = uniform(0,1)\n",
    "ugen.rvs(10)"
   ]
  },
  {
   "cell_type": "code",
   "execution_count": 38,
   "id": "13f93443",
   "metadata": {},
   "outputs": [
    {
     "data": {
      "text/plain": [
       "RandomizedSearchCV(estimator=DecisionTreeClassifier(random_state=42),\n",
       "                   n_iter=100, n_jobs=-1,\n",
       "                   param_distributions={'max_depth': <scipy.stats._distn_infrastructure.rv_frozen object at 0x000001E46D4666D0>,\n",
       "                                        'min_impurity_decrease': <scipy.stats._distn_infrastructure.rv_frozen object at 0x000001E46D518A60>,\n",
       "                                        'min_samples_leaf': <scipy.stats._distn_infrastructure.rv_frozen object at 0x000001E46D466670>,\n",
       "                                        'min_samples_split': <scipy.stats._distn_infrastructure.rv_frozen object at 0x000001E46D518520>},\n",
       "                   random_state=42)"
      ]
     },
     "execution_count": 38,
     "metadata": {},
     "output_type": "execute_result"
    }
   ],
   "source": [
    "# min_samples_leaf와 RandomizedSearchCV 사용해서 가장 좋은 결과 낸 파라미터 조합 조회\n",
    "# 하지만 모든 조합을 다 시도하지는 않고, 각 반복마다 임의의 값만 대입해 지정한 횟수만큼 평가\n",
    "# 위에 지정한 세 가지 파라미터에 min_samples_leaf 까지 추가\n",
    "from sklearn.model_selection import RandomizedSearchCV\n",
    "\n",
    "params = {'min_impurity_decrease' : uniform(0.0001, 0.001),\n",
    "         'max_depth': randint(20, 50),\n",
    "         'min_samples_split': randint(2, 25),\n",
    "         'min_samples_leaf': randint(1,25)\n",
    "         }\n",
    "\n",
    "gs = RandomizedSearchCV(DecisionTreeClassifier(random_state=42), params, \n",
    "                        n_iter=100, n_jobs=-1, random_state=42)\n",
    "# n_iter: for loop 몇 번 도는지 세어줌\n",
    "\n",
    "# 모델 학습시킴\n",
    "gs.fit(X_train, y_train)"
   ]
  },
  {
   "cell_type": "code",
   "execution_count": 26,
   "id": "a844977c",
   "metadata": {},
   "outputs": [
    {
     "data": {
      "text/plain": [
       "{'min_impurity_decrease': 0.0003}"
      ]
     },
     "execution_count": 26,
     "metadata": {},
     "output_type": "execute_result"
    }
   ],
   "source": [
    "# 가장 좋은 파라미터 조합 확인\n",
    "gs.best_params_"
   ]
  },
  {
   "cell_type": "code",
   "execution_count": 27,
   "id": "f42b4630",
   "metadata": {},
   "outputs": [
    {
     "data": {
      "text/plain": [
       "0.7991234117994681"
      ]
     },
     "execution_count": 27,
     "metadata": {},
     "output_type": "execute_result"
    }
   ],
   "source": [
    "# 교차 검증 평균 점수 확인\n",
    "np.max(gs.cv_results_['mean_test_score'])"
   ]
  },
  {
   "cell_type": "markdown",
   "id": "82e7ecd0",
   "metadata": {},
   "source": [
    "### 테스트 데이터셋 점수 확인"
   ]
  },
  {
   "cell_type": "code",
   "execution_count": 39,
   "id": "8671397f",
   "metadata": {},
   "outputs": [
    {
     "data": {
      "text/plain": [
       "0.7988826815642458"
      ]
     },
     "execution_count": 39,
     "metadata": {},
     "output_type": "execute_result"
    }
   ],
   "source": [
    "dt = gs.best_estimator_\n",
    "\n",
    "dt.score(X_test, y_test)"
   ]
  }
 ],
 "metadata": {
  "kernelspec": {
   "display_name": "Python 3 (ipykernel)",
   "language": "python",
   "name": "python3"
  },
  "language_info": {
   "codemirror_mode": {
    "name": "ipython",
    "version": 3
   },
   "file_extension": ".py",
   "mimetype": "text/x-python",
   "name": "python",
   "nbconvert_exporter": "python",
   "pygments_lexer": "ipython3",
   "version": "3.9.12"
  }
 },
 "nbformat": 4,
 "nbformat_minor": 5
}
