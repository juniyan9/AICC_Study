{
 "cells": [
  {
   "cell_type": "markdown",
   "id": "de622826",
   "metadata": {},
   "source": [
    "# 정규표현식"
   ]
  },
  {
   "cell_type": "code",
   "execution_count": 9,
   "id": "ab5f7d07",
   "metadata": {},
   "outputs": [],
   "source": [
    "data = \"\"\"\n",
    "park 800905-1049118\n",
    "kim  700905-1059119\n",
    "\"\"\""
   ]
  },
  {
   "cell_type": "code",
   "execution_count": 10,
   "id": "fa7ef2f0",
   "metadata": {},
   "outputs": [],
   "source": [
    "# park 800905-*******\n",
    "# 이렇게 출력하라고 함"
   ]
  },
  {
   "cell_type": "code",
   "execution_count": 11,
   "id": "c6351ce0",
   "metadata": {},
   "outputs": [],
   "source": [
    "result = []"
   ]
  },
  {
   "cell_type": "code",
   "execution_count": 12,
   "id": "97b9b524",
   "metadata": {},
   "outputs": [],
   "source": [
    "line = 'park 800905-1049118'\n"
   ]
  },
  {
   "cell_type": "code",
   "execution_count": 13,
   "id": "f4554fa2",
   "metadata": {},
   "outputs": [
    {
     "data": {
      "text/plain": [
       "['park', '800905-1049118']"
      ]
     },
     "execution_count": 13,
     "metadata": {},
     "output_type": "execute_result"
    }
   ],
   "source": [
    "line.split(\" \")"
   ]
  },
  {
   "cell_type": "code",
   "execution_count": 17,
   "id": "68c69033",
   "metadata": {},
   "outputs": [],
   "source": [
    "result = []"
   ]
  },
  {
   "cell_type": "code",
   "execution_count": 18,
   "id": "6883063b",
   "metadata": {
    "scrolled": true
   },
   "outputs": [
    {
     "name": "stdout",
     "output_type": "stream",
     "text": [
      "\n",
      "park 800905-*******\n",
      "kim  700905-*******\n",
      "\n"
     ]
    }
   ],
   "source": [
    "for line in data.split(\"\\n\"):\n",
    "# '개행단위로 나눈 것이 line이다'라고 한 것\n",
    "# for문 형식 자체가 for 다음 변수가 아무거나 들입다 와도 된다(i, line, whatever, ...)\n",
    "    word_result = []\n",
    "    for word in line.split(\" \"):\n",
    "#         =각 줄을 공백을 기준으로 분할하여 단어들을 추출합니다.\n",
    "#         그래서 word_result 리스트 안에 넣을 건가봐\n",
    "        if len(word) == 14 and word[:6].isdigit() and word[7:].isdigit():\n",
    "#             전체 워드 길이가 14이고, 워드의 여섯번째자리까지가 숫자이고, \n",
    "#             7번째자리부터 끝까지도 숫자라면 아래를 출력해라.\n",
    "            word = word[:6] + \"-\" + \"*******\"\n",
    "        word_result.append(word)\n",
    "    result.append(\" \".join(word_result))\n",
    "   \n",
    "\n",
    "    print(\" \".join(word_result))\n",
    "    # 각 줄에서 처리한 결과를 공백으로 합해서 출력하라는 뜻이므로 print(result)와 결과가 다르다.\n",
    "        \n",
    "\n",
    "# 예를 들어, word_result가 [\"apple\", \"banana\", \"orange\"]라고 가정하면, \n",
    "# \" \".join(word_result)는 \"apple banana orange\"라는 하나의 문자열을 생성합니다. \n",
    "# 그리고 이 문자열이 result 리스트에 추가됩니다. \n",
    "# 결과적으로 result 리스트에는 하나의 문자열만 추가되는 것입니다."
   ]
  },
  {
   "cell_type": "code",
   "execution_count": null,
   "id": "ec7d0b11",
   "metadata": {},
   "outputs": [],
   "source": []
  },
  {
   "cell_type": "code",
   "execution_count": null,
   "id": "7a89e75e",
   "metadata": {},
   "outputs": [],
   "source": [
    "name1 = \"park 800905-1049118\"\n",
    "# 이걸 어떻게 \n",
    "# park 800905-******* 로 바꿀지 해보래"
   ]
  },
  {
   "cell_type": "code",
   "execution_count": null,
   "id": "c7ff4f06",
   "metadata": {
    "scrolled": true
   },
   "outputs": [],
   "source": [
    "loc = name1.index('-')+1\n",
    "name1[0:loc] + \"*\"*7\n",
    "# 인덱스 사용법 기억하기! \n",
    "\n",
    "# +1 하는 이유는 인덱스는 해당 위치 앞 커서 숫자를 가져와주기 때문에 \n",
    "# 가져오고싶은 문자가 있다면 그 뒤 커서 위치 숫자까지 가져와주어야 되므로!\n"
   ]
  },
  {
   "cell_type": "code",
   "execution_count": null,
   "id": "74281cfc",
   "metadata": {},
   "outputs": [],
   "source": [
    "name2= \"kim 700905-1059119\"\n",
    "name1[0:loc] + \"*\"*7"
   ]
  },
  {
   "cell_type": "markdown",
   "id": "12be99a0",
   "metadata": {},
   "source": [
    "# step 2"
   ]
  },
  {
   "cell_type": "code",
   "execution_count": null,
   "id": "7b5b19a2",
   "metadata": {},
   "outputs": [],
   "source": [
    "# for문으로 data = \"\" 동시에 처리 해보래"
   ]
  },
  {
   "cell_type": "code",
   "execution_count": null,
   "id": "3df6e5bc",
   "metadata": {},
   "outputs": [],
   "source": [
    "data = \"\"\"\n",
    "park 800905-1049118\n",
    "kim  700905-1059119\n",
    "\"\"\"\n"
   ]
  },
  {
   "cell_type": "code",
   "execution_count": null,
   "id": "1fd5789b",
   "metadata": {},
   "outputs": [],
   "source": [
    "# 출력: \n",
    "# data_list = ['park 800905-1049118', 'kim  700905-1059119']"
   ]
  },
  {
   "cell_type": "code",
   "execution_count": null,
   "id": "4ba86e31",
   "metadata": {
    "scrolled": true
   },
   "outputs": [],
   "source": [
    "data_list = data.split(\"\\n\")"
   ]
  },
  {
   "cell_type": "code",
   "execution_count": null,
   "id": "befe4605",
   "metadata": {},
   "outputs": [],
   "source": [
    "print(data_list)"
   ]
  },
  {
   "cell_type": "code",
   "execution_count": null,
   "id": "2a3ce60a",
   "metadata": {
    "scrolled": true
   },
   "outputs": [],
   "source": [
    "for name in data_list:\n",
    "    if len(name)>0:\n",
    "        loc = name.index('-')+1\n",
    "        rslt = name[0:loc]+\"*\"*7\n",
    "        print(rslt)"
   ]
  },
  {
   "cell_type": "code",
   "execution_count": null,
   "id": "cc8d3d6b",
   "metadata": {},
   "outputs": [],
   "source": []
  },
  {
   "cell_type": "markdown",
   "id": "e0216df5",
   "metadata": {},
   "source": [
    "# 정규표현식"
   ]
  },
  {
   "cell_type": "code",
   "execution_count": null,
   "id": "09f9c81e",
   "metadata": {},
   "outputs": [],
   "source": [
    "# 모듈이슈로 아래 안됨.."
   ]
  },
  {
   "cell_type": "code",
   "execution_count": null,
   "id": "1eafa0f5",
   "metadata": {},
   "outputs": [],
   "source": [
    "import re "
   ]
  },
  {
   "cell_type": "code",
   "execution_count": null,
   "id": "741bb79d",
   "metadata": {},
   "outputs": [],
   "source": [
    "data = \"\"\"\n",
    "park 800905-1049118\n",
    "kim  700905-1059119\n",
    "park 800905-1049118\n",
    "kim  700905-1059119\n",
    "park 800905-1049118\n",
    "kim  700905-1059119\n",
    "\"\"\""
   ]
  },
  {
   "cell_type": "code",
   "execution_count": null,
   "id": "261c666c",
   "metadata": {},
   "outputs": [],
   "source": [
    "data"
   ]
  },
  {
   "cell_type": "code",
   "execution_count": null,
   "id": "824891af",
   "metadata": {
    "scrolled": true
   },
   "outputs": [],
   "source": [
    "pat = re.compile(\"(\\d{6})[-]\\d{7}\")\n",
    "pat"
   ]
  },
  {
   "cell_type": "code",
   "execution_count": null,
   "id": "1524a1cd",
   "metadata": {},
   "outputs": [],
   "source": [
    "print(pat.sub(\"\\g<1>-*******\", data))"
   ]
  },
  {
   "cell_type": "code",
   "execution_count": null,
   "id": "ad2cc055",
   "metadata": {},
   "outputs": [],
   "source": [
    "height = int(input(\"키 입력 : \"))\n",
    "weight = int(input(\"몸무게 입력 : \"))\n",
    "\n",
    "fatrate = weight + 100 - height\n",
    "\n",
    "if fatrate > 0:\n",
    "    print(\"비만수치:\", obesity)\n",
    "    print(\"결과 : Obesity\")"
   ]
  },
  {
   "cell_type": "code",
   "execution_count": null,
   "id": "8ef8a77d",
   "metadata": {},
   "outputs": [],
   "source": [
    "height = int(input(\"키 입력 : \"))\n",
    "weight = int(input(\"몸무게 입력 : \"))\n",
    "\n",
    "fatrate = weight + 100 - height\n",
    "\n",
    "if fatrate > 0:\n",
    "    print(\"비만수치:\", fatrate)\n",
    "    print(\"결과 : Obesity\")"
   ]
  },
  {
   "cell_type": "code",
   "execution_count": null,
   "id": "e11ccecd",
   "metadata": {},
   "outputs": [],
   "source": []
  },
  {
   "cell_type": "code",
   "execution_count": null,
   "id": "e8432412",
   "metadata": {},
   "outputs": [],
   "source": []
  },
  {
   "cell_type": "code",
   "execution_count": null,
   "id": "c7854667",
   "metadata": {},
   "outputs": [],
   "source": []
  }
 ],
 "metadata": {
  "kernelspec": {
   "display_name": "Python 3 (ipykernel)",
   "language": "python",
   "name": "python3"
  },
  "language_info": {
   "codemirror_mode": {
    "name": "ipython",
    "version": 3
   },
   "file_extension": ".py",
   "mimetype": "text/x-python",
   "name": "python",
   "nbconvert_exporter": "python",
   "pygments_lexer": "ipython3",
   "version": "3.9.12"
  }
 },
 "nbformat": 4,
 "nbformat_minor": 5
}
