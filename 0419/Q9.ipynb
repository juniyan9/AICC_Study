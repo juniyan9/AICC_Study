{
 "cells": [
  {
   "cell_type": "code",
   "execution_count": 7,
   "id": "63b59a40",
   "metadata": {},
   "outputs": [],
   "source": [
    "score = [80, 60, 70, 50, 100, 95, 40, 75, 90, 65, 90, 100]\n",
    "# 평균을 for문으로 구해라"
   ]
  },
  {
   "cell_type": "code",
   "execution_count": 8,
   "id": "2074051f",
   "metadata": {},
   "outputs": [],
   "source": [
    "count = 0\n",
    "total = 0"
   ]
  },
  {
   "cell_type": "code",
   "execution_count": 10,
   "id": "965b33a4",
   "metadata": {},
   "outputs": [
    {
     "name": "stdout",
     "output_type": "stream",
     "text": [
      "1 80 80\n",
      "2 60 140\n",
      "3 70 210\n",
      "4 50 260\n",
      "5 100 360\n",
      "6 95 455\n",
      "7 40 495\n",
      "8 75 570\n",
      "9 90 660\n",
      "10 65 725\n",
      "11 90 815\n",
      "12 100 915\n"
     ]
    }
   ],
   "source": [
    "for i in score:\n",
    "\n",
    "    count += 1\n",
    "    total += i\n",
    "\n",
    "    print(count, i, total)"
   ]
  },
  {
   "cell_type": "code",
   "execution_count": 11,
   "id": "1e61558b",
   "metadata": {},
   "outputs": [
    {
     "name": "stdout",
     "output_type": "stream",
     "text": [
      "76.25\n"
     ]
    }
   ],
   "source": [
    "print(total/count)"
   ]
  },
  {
   "cell_type": "code",
   "execution_count": null,
   "id": "19d1befb",
   "metadata": {},
   "outputs": [],
   "source": []
  }
 ],
 "metadata": {
  "kernelspec": {
   "display_name": "Python 3 (ipykernel)",
   "language": "python",
   "name": "python3"
  },
  "language_info": {
   "codemirror_mode": {
    "name": "ipython",
    "version": 3
   },
   "file_extension": ".py",
   "mimetype": "text/x-python",
   "name": "python",
   "nbconvert_exporter": "python",
   "pygments_lexer": "ipython3",
   "version": "3.9.12"
  }
 },
 "nbformat": 4,
 "nbformat_minor": 5
}
