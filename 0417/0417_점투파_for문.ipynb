{
 "cells": [
  {
   "cell_type": "code",
   "execution_count": 1,
   "id": "3da9fb6f",
   "metadata": {},
   "outputs": [],
   "source": [
    "test_list = ['one', 'two', 'three'] "
   ]
  },
  {
   "cell_type": "code",
   "execution_count": 2,
   "id": "c75940be",
   "metadata": {},
   "outputs": [
    {
     "data": {
      "text/plain": [
       "['one', 'two', 'three']"
      ]
     },
     "execution_count": 2,
     "metadata": {},
     "output_type": "execute_result"
    }
   ],
   "source": [
    "test_list"
   ]
  },
  {
   "cell_type": "code",
   "execution_count": 3,
   "id": "d61f6fcc",
   "metadata": {},
   "outputs": [
    {
     "name": "stdout",
     "output_type": "stream",
     "text": [
      "one\n",
      "two\n",
      "three\n"
     ]
    }
   ],
   "source": [
    "for i in test_list: \n",
    "    print(i)"
   ]
  },
  {
   "cell_type": "code",
   "execution_count": 4,
   "id": "6d959cd0",
   "metadata": {
    "scrolled": true
   },
   "outputs": [],
   "source": [
    " a = [(1,2), (3,4), (5,6)]"
   ]
  },
  {
   "cell_type": "code",
   "execution_count": 5,
   "id": "60e63008",
   "metadata": {},
   "outputs": [
    {
     "data": {
      "text/plain": [
       "[(1, 2), (3, 4), (5, 6)]"
      ]
     },
     "execution_count": 5,
     "metadata": {},
     "output_type": "execute_result"
    }
   ],
   "source": [
    "a"
   ]
  },
  {
   "cell_type": "code",
   "execution_count": 6,
   "id": "fa58b17e",
   "metadata": {},
   "outputs": [
    {
     "name": "stdout",
     "output_type": "stream",
     "text": [
      "3\n",
      "7\n",
      "11\n"
     ]
    }
   ],
   "source": [
    "for (first, last) in a:\n",
    "    print(first + last)"
   ]
  },
  {
   "cell_type": "markdown",
   "id": "b8e6e33f",
   "metadata": {},
   "source": [
    "<h1> if 문 </h1>"
   ]
  },
  {
   "cell_type": "code",
   "execution_count": 7,
   "id": "90807299",
   "metadata": {},
   "outputs": [],
   "source": [
    "money = False"
   ]
  },
  {
   "cell_type": "code",
   "execution_count": 8,
   "id": "c12478ad",
   "metadata": {},
   "outputs": [
    {
     "data": {
      "text/plain": [
       "False"
      ]
     },
     "execution_count": 8,
     "metadata": {},
     "output_type": "execute_result"
    }
   ],
   "source": [
    "money"
   ]
  },
  {
   "cell_type": "code",
   "execution_count": 9,
   "id": "0710d6c7",
   "metadata": {},
   "outputs": [
    {
     "name": "stdout",
     "output_type": "stream",
     "text": [
      "걸어 가라\n"
     ]
    }
   ],
   "source": [
    "if money:\n",
    "    print(\"택시를 타고 가라\")\n",
    "\n",
    "else:\n",
    "    print(\"걸어 가라\")"
   ]
  },
  {
   "cell_type": "code",
   "execution_count": 10,
   "id": "666f1ac0",
   "metadata": {},
   "outputs": [
    {
     "name": "stdout",
     "output_type": "stream",
     "text": [
      "택시를\n",
      "타고\n",
      "가라\n"
     ]
    }
   ],
   "source": [
    "# 띄어쓰기를 잘 맞춰라.\n",
    "money = True\n",
    "if money:\n",
    "    print(\"택시를\")\n",
    "    print(\"타고\")\n",
    "    print(\"가라\")"
   ]
  },
  {
   "cell_type": "code",
   "execution_count": 11,
   "id": "b97902e6",
   "metadata": {},
   "outputs": [],
   "source": [
    "x = 3"
   ]
  },
  {
   "cell_type": "code",
   "execution_count": 12,
   "id": "59619bfb",
   "metadata": {},
   "outputs": [],
   "source": [
    "y = 2"
   ]
  },
  {
   "cell_type": "code",
   "execution_count": 13,
   "id": "611397a3",
   "metadata": {},
   "outputs": [
    {
     "data": {
      "text/plain": [
       "False"
      ]
     },
     "execution_count": 13,
     "metadata": {},
     "output_type": "execute_result"
    }
   ],
   "source": [
    "x == y"
   ]
  },
  {
   "cell_type": "code",
   "execution_count": 14,
   "id": "fad4bd27",
   "metadata": {},
   "outputs": [],
   "source": [
    "# 만약 3000원 이상의 돈을 가지고 있으면 택시를 타고 가고, 그렇지 않으면 걸어가라."
   ]
  },
  {
   "cell_type": "code",
   "execution_count": 15,
   "id": "02de1d7d",
   "metadata": {},
   "outputs": [],
   "source": [
    "money = 2999"
   ]
  },
  {
   "cell_type": "code",
   "execution_count": 16,
   "id": "9aebad23",
   "metadata": {},
   "outputs": [
    {
     "name": "stdout",
     "output_type": "stream",
     "text": [
      "걸어가라.\n"
     ]
    }
   ],
   "source": [
    "if money >= 3000:\n",
    "    print(\"택시를 타고 가라.\")\n",
    "    \n",
    "else:\n",
    "    print(\"걸어가라.\")"
   ]
  },
  {
   "cell_type": "code",
   "execution_count": 17,
   "id": "115cf70b",
   "metadata": {},
   "outputs": [],
   "source": [
    "# 돈이 3000원 이상 있거나 카드가 있다면 택시를 타고 가고, 그렇지 않으면 걸어가라."
   ]
  },
  {
   "cell_type": "code",
   "execution_count": 18,
   "id": "a87fe7b0",
   "metadata": {},
   "outputs": [],
   "source": [
    "money = 2000  #돈을 조건화\n",
    "# 돈 값을 '='를 사용해서 넣어줘야만 아래가 올바르게 작동 "
   ]
  },
  {
   "cell_type": "code",
   "execution_count": 19,
   "id": "9f926974",
   "metadata": {},
   "outputs": [],
   "source": [
    "card = False  # 카드 유무를 조건화 해주는 것"
   ]
  },
  {
   "cell_type": "code",
   "execution_count": 20,
   "id": "2a063f65",
   "metadata": {},
   "outputs": [
    {
     "name": "stdout",
     "output_type": "stream",
     "text": [
      "걸어가라.\n"
     ]
    }
   ],
   "source": [
    "if money >= 3000 or card:\n",
    "    print(\"택시를 타고 가라.\")   \n",
    "\n",
    "else:\n",
    "    print(\"걸어가라.\")"
   ]
  },
  {
   "cell_type": "code",
   "execution_count": 21,
   "id": "71522f60",
   "metadata": {},
   "outputs": [
    {
     "data": {
      "text/plain": [
       "True"
      ]
     },
     "execution_count": 21,
     "metadata": {},
     "output_type": "execute_result"
    }
   ],
   "source": [
    "'j' not in 'python'"
   ]
  },
  {
   "cell_type": "code",
   "execution_count": 22,
   "id": "4ae525bb",
   "metadata": {},
   "outputs": [],
   "source": [
    "if money >= 3000 or card:\n",
    "    pass   \n",
    "\n",
    "else:\n",
    "    pass"
   ]
  },
  {
   "cell_type": "code",
   "execution_count": 23,
   "id": "7cd0c59d",
   "metadata": {},
   "outputs": [],
   "source": [
    "# 주머니에 돈이 있으면 택시를 타고 가고, 주머니에 돈은 없지만 카드가 있으면 택시를 타고 가고, 돈도 없고 카드도 없으면 걸어가라."
   ]
  },
  {
   "cell_type": "code",
   "execution_count": 24,
   "id": "d32ce25a",
   "metadata": {},
   "outputs": [],
   "source": [
    "pocket = ['paper', 'cellphone']"
   ]
  },
  {
   "cell_type": "code",
   "execution_count": 25,
   "id": "78ff16b7",
   "metadata": {},
   "outputs": [],
   "source": [
    "card = False"
   ]
  },
  {
   "cell_type": "code",
   "execution_count": 26,
   "id": "fad84815",
   "metadata": {},
   "outputs": [
    {
     "name": "stdout",
     "output_type": "stream",
     "text": [
      "걸어가라.\n"
     ]
    }
   ],
   "source": [
    "if 'money' in pocket:\n",
    "    print(\"택시를 타고 가라.\")\n",
    "else:\n",
    "    if card:\n",
    "        print(\"택시를 타고 가라.\")\n",
    "    else:\n",
    "        print(\"걸어가라.\")"
   ]
  },
  {
   "cell_type": "code",
   "execution_count": 27,
   "id": "8b5fcdce",
   "metadata": {},
   "outputs": [
    {
     "name": "stdout",
     "output_type": "stream",
     "text": [
      "걸어가라\n"
     ]
    }
   ],
   "source": [
    "# elif 용법 indentation 주의!!1 elif는 전부 앞쪽 라인에 붙여씀.\n",
    "if 'money' in pocket:\n",
    "      print(\"택시를 타고가라\")\n",
    "elif card: \n",
    "          print(\"택시를 타고가라\")\n",
    "else:\n",
    "          print(\"걸어가라\")"
   ]
  },
  {
   "cell_type": "code",
   "execution_count": 28,
   "id": "173ef1b5",
   "metadata": {},
   "outputs": [],
   "source": [
    "# QUIZ 5. if ~ elif ~ else 문 작성연습\n",
    "# 점수를 가지고, \n",
    "# 90 >=  수, 80 >= 우, 70 >= 미, 70 < 재시험"
   ]
  },
  {
   "cell_type": "code",
   "execution_count": 29,
   "id": "a9fa1581",
   "metadata": {},
   "outputs": [
    {
     "name": "stdout",
     "output_type": "stream",
     "text": [
      "점수 입력:30\n"
     ]
    }
   ],
   "source": [
    "score = int(input(\"점수 입력:\"))"
   ]
  },
  {
   "cell_type": "code",
   "execution_count": 30,
   "id": "926c58c2",
   "metadata": {},
   "outputs": [
    {
     "name": "stdout",
     "output_type": "stream",
     "text": [
      "재시험\n"
     ]
    }
   ],
   "source": [
    "if score >= 90:\n",
    "    print(\"성적: 수\")\n",
    "elif score >= 80:\n",
    "    print(\"성적: 우\")\n",
    "elif score >= 70:\n",
    "    print(\"성적: 미\")\n",
    "else:\n",
    "    print(\"재시험\")"
   ]
  },
  {
   "cell_type": "markdown",
   "id": "714e97f1",
   "metadata": {},
   "source": [
    "<h1> for문과 if문 함께 쓰기 </h1>"
   ]
  },
  {
   "cell_type": "code",
   "execution_count": 31,
   "id": "d3cdd6a5",
   "metadata": {},
   "outputs": [],
   "source": [
    "marks = [90, 25, 67, 45, 80]"
   ]
  },
  {
   "cell_type": "code",
   "execution_count": 32,
   "id": "9f070165",
   "metadata": {},
   "outputs": [
    {
     "name": "stdout",
     "output_type": "stream",
     "text": [
      "90\n",
      "합격입니다.\n",
      "25\n",
      "불합격입니다.\n",
      "67\n",
      "합격입니다.\n",
      "45\n",
      "불합격입니다.\n",
      "80\n",
      "합격입니다.\n"
     ]
    }
   ],
   "source": [
    "for mark in marks:\n",
    "    if mark >= 60:\n",
    "        print(\"%d\" % mark)\n",
    "        print(\"합격입니다.\")\n",
    "    else:\n",
    "        print(\"%d\" % mark)\n",
    "        print(\"불합격입니다.\")"
   ]
  },
  {
   "cell_type": "code",
   "execution_count": 33,
   "id": "9b737203",
   "metadata": {
    "scrolled": true
   },
   "outputs": [
    {
     "name": "stdout",
     "output_type": "stream",
     "text": [
      "1번 학생은 90점으로 합격입니다.\n",
      "2번 학생은 25점으로 불합격입니다.\n",
      "3번 학생은 67점으로 합격입니다.\n",
      "4번 학생은 45점으로 불합격입니다.\n",
      "5번 학생은 80점으로 합격입니다.\n"
     ]
    }
   ],
   "source": [
    "number = 0\n",
    "\n",
    "for mark in marks:\n",
    "    number = number + 1 \n",
    "    if mark >= 60:\n",
    "        print(\"%d번 학생은 %d점으로 합격입니다.\" % (number, mark))\n",
    "    else: \n",
    "        print(\"%d번 학생은 %d점으로 불합격입니다.\" % (number, mark))"
   ]
  },
  {
   "cell_type": "markdown",
   "id": "bf63feb6",
   "metadata": {},
   "source": [
    "# continue"
   ]
  },
  {
   "cell_type": "code",
   "execution_count": 34,
   "id": "2f5fdb5c",
   "metadata": {},
   "outputs": [
    {
     "name": "stdout",
     "output_type": "stream",
     "text": [
      "1번 학생 축하합니다. 합격입니다. \n",
      "25\n",
      "3번 학생 축하합니다. 합격입니다. \n",
      "45\n",
      "5번 학생 축하합니다. 합격입니다. \n"
     ]
    }
   ],
   "source": [
    "marks = [90, 25, 67, 45, 80]\n",
    "\n",
    "number = 0 \n",
    "for mark in marks: \n",
    "    number = number +1 \n",
    "    if mark < 60:\n",
    "        print(mark)\n",
    "        continue \n",
    "    print(\"%d번 학생 축하합니다. 합격입니다. \" % number)"
   ]
  },
  {
   "cell_type": "code",
   "execution_count": 35,
   "id": "87a1374a",
   "metadata": {},
   "outputs": [
    {
     "data": {
      "text/plain": [
       "5"
      ]
     },
     "execution_count": 35,
     "metadata": {},
     "output_type": "execute_result"
    }
   ],
   "source": [
    "len(marks)"
   ]
  },
  {
   "cell_type": "code",
   "execution_count": 36,
   "id": "929f022f",
   "metadata": {},
   "outputs": [],
   "source": [
    "a = range(10)"
   ]
  },
  {
   "cell_type": "code",
   "execution_count": 37,
   "id": "f506c995",
   "metadata": {},
   "outputs": [
    {
     "data": {
      "text/plain": [
       "range(0, 10)"
      ]
     },
     "execution_count": 37,
     "metadata": {},
     "output_type": "execute_result"
    }
   ],
   "source": [
    "a"
   ]
  },
  {
   "cell_type": "code",
   "execution_count": 38,
   "id": "e946abb9",
   "metadata": {},
   "outputs": [
    {
     "name": "stdout",
     "output_type": "stream",
     "text": [
      "1\n",
      "2\n",
      "3\n",
      "4\n",
      "5\n",
      "6\n",
      "7\n",
      "8\n",
      "9\n",
      "10\n"
     ]
    }
   ],
   "source": [
    "for i in range(10):\n",
    "    print(i + 1)"
   ]
  },
  {
   "cell_type": "code",
   "execution_count": 39,
   "id": "e692efff",
   "metadata": {},
   "outputs": [
    {
     "name": "stdout",
     "output_type": "stream",
     "text": [
      "55\n"
     ]
    }
   ],
   "source": [
    "add = 0\n",
    "for i in range(1,11):\n",
    "    add = add + i\n",
    "    \n",
    "print(add)     # print 앞에 tab 안 들어가도록 주의!"
   ]
  },
  {
   "cell_type": "code",
   "execution_count": 40,
   "id": "adab90d0",
   "metadata": {},
   "outputs": [
    {
     "ename": "SyntaxError",
     "evalue": "invalid syntax (85674484.py, line 1)",
     "output_type": "error",
     "traceback": [
      "\u001b[1;36m  Input \u001b[1;32mIn [40]\u001b[1;36m\u001b[0m\n\u001b[1;33m    marks:\u001b[0m\n\u001b[1;37m           ^\u001b[0m\n\u001b[1;31mSyntaxError\u001b[0m\u001b[1;31m:\u001b[0m invalid syntax\n"
     ]
    }
   ],
   "source": [
    "marks: \n",
    "    \n",
    "for number in range(0, len(marks)):\n",
    "    print(number)\n",
    "    if marks[number]<60:\n",
    "        continue\n",
    "    print(\"%d번 학생 축하합니다. 합격입니다.\" % (number+1))"
   ]
  },
  {
   "cell_type": "code",
   "execution_count": null,
   "id": "0c02b815",
   "metadata": {},
   "outputs": [],
   "source": [
    "for i in range(1,10):\n",
    "    for j in range(1,10):\n",
    "        print(i*j, end=\" \")  # i*j 사이사이에 띄어쓰기 해달라, 모르는 게 나오면 바꿔서 찍어볼 것\n",
    "    print('\\t') "
   ]
  },
  {
   "cell_type": "markdown",
   "id": "0917ee9b",
   "metadata": {},
   "source": [
    "<h1> while문 </h1>"
   ]
  },
  {
   "cell_type": "code",
   "execution_count": null,
   "id": "88f28419",
   "metadata": {},
   "outputs": [],
   "source": [
    "treeHit = 0\n",
    "while treeHit < 10:\n",
    "    treeHit = treeHit + 1\n",
    "    print(\"나무를 %d번 찍었습니다.\" % treeHit)\n",
    "    if treeHit == 10:\n",
    "        print(\"나무 넘어갑니다.\")"
   ]
  },
  {
   "cell_type": "code",
   "execution_count": null,
   "id": "18657278",
   "metadata": {},
   "outputs": [
    {
     "name": "stdout",
     "output_type": "stream",
     "text": [
      "돈을 넣어주세요:700\n",
      "거스름돈: 400, 커피가 추출되는 중이니 잠시 기다려주세요.\n"
     ]
    }
   ],
   "source": [
    "coffee = 10\n",
    "\n",
    "while True:\n",
    "    money = int(input(\"돈을 넣어주세요:\"))\n",
    "    if money == 300:\n",
    "        print(\"커피가 나옵니다.\")\n",
    "        coffee = coffee -1\n",
    "    elif money > 300:\n",
    "        print(\"거스름돈: %d, 커피가 추출되는 중이니 잠시 기다려주세요.\" % (money -300))\n",
    "        coffee = coffee -1\n",
    "    else:\n",
    "        print(\"돈이 반환됩니다.\")\n",
    "        print(\"남은 커피의 양은 %d개입니다.\" % coffee)\n",
    "    if coffee == 0:\n",
    "        print(\"품절\")\n",
    "        break"
   ]
  },
  {
   "cell_type": "code",
   "execution_count": null,
   "id": "dfd5408d",
   "metadata": {},
   "outputs": [],
   "source": [
    "a = 0\n",
    "while a < 10:\n",
    "    a = a + 1\n",
    "    if a % 2 == 0: continue\n",
    "        \n",
    "    print(a)"
   ]
  },
  {
   "cell_type": "code",
   "execution_count": null,
   "id": "31ca1b0b",
   "metadata": {},
   "outputs": [],
   "source": []
  }
 ],
 "metadata": {
  "kernelspec": {
   "display_name": "Python 3 (ipykernel)",
   "language": "python",
   "name": "python3"
  },
  "language_info": {
   "codemirror_mode": {
    "name": "ipython",
    "version": 3
   },
   "file_extension": ".py",
   "mimetype": "text/x-python",
   "name": "python",
   "nbconvert_exporter": "python",
   "pygments_lexer": "ipython3",
   "version": "3.9.12"
  }
 },
 "nbformat": 4,
 "nbformat_minor": 5
}
