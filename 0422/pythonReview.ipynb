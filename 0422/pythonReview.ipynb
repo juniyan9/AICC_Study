{
 "cells": [
  {
   "cell_type": "code",
   "execution_count": 1,
   "id": "6e8946a4",
   "metadata": {},
   "outputs": [
    {
     "name": "stdout",
     "output_type": "stream",
     "text": [
      "1\n",
      "2\n",
      "3\n",
      "4\n",
      "5\n",
      "6\n",
      "7\n",
      "8\n"
     ]
    }
   ],
   "source": [
    "print(\"1\")\n",
    "print(\"2\")\n",
    "print(\"3\")\n",
    "print(\"4\")\n",
    "a = 0\n",
    "for i in range(5):\n",
    "    a += 1\n",
    "print(\"5\")\n",
    "print(\"6\")\n",
    "print(\"7\")\n",
    "print(\"8\")"
   ]
  },
  {
   "cell_type": "code",
   "execution_count": 2,
   "id": "0333d830",
   "metadata": {},
   "outputs": [
    {
     "name": "stdout",
     "output_type": "stream",
     "text": [
      "10\n"
     ]
    }
   ],
   "source": [
    "a=0\n",
    "for i in range(5):\n",
    "    a = i+a\n",
    "    # 이것과 그냥 i+a의 차이는 위에꺼는 a에 저장해야하므로 누적합이 되고 이건 아닌것.\n",
    "print(a)"
   ]
  },
  {
   "cell_type": "code",
   "execution_count": 3,
   "id": "f090ca65",
   "metadata": {},
   "outputs": [],
   "source": [
    "# for: 대파, 콩나물, 양파\n",
    "# if: 계란\n",
    "# while: 매운맛"
   ]
  },
  {
   "cell_type": "code",
   "execution_count": 4,
   "id": "296e817e",
   "metadata": {},
   "outputs": [
    {
     "ename": "SyntaxError",
     "evalue": "invalid syntax (2149036521.py, line 1)",
     "output_type": "error",
     "traceback": [
      "\u001b[1;36m  Input \u001b[1;32mIn [4]\u001b[1;36m\u001b[0m\n\u001b[1;33m    for 변수 in 리스트(또눈 튜플,문자열):\u001b[0m\n\u001b[1;37m                     ^\u001b[0m\n\u001b[1;31mSyntaxError\u001b[0m\u001b[1;31m:\u001b[0m invalid syntax\n"
     ]
    }
   ],
   "source": [
    "for 변수 in 리스트(또눈 튜플,문자열):\n",
    "    수행할 문장 1\n",
    "    수행할 문장 1\n",
    "    print(어쩌고저쩌고)\n",
    "print(어쩌고저쩌고)\n",
    "\n",
    "# 위 두 프린트문의 차이는 마지막꺼는 for 안에 내용(여기서는 위에 프린트문 포함)을 다 돌고 한 번 더 프린트해라."
   ]
  },
  {
   "cell_type": "code",
   "execution_count": null,
   "id": "02e43d4c",
   "metadata": {},
   "outputs": [],
   "source": [
    "sung = ['김','이','박']\n",
    "name = ['재욱', '지수', '제니']\n",
    "\n",
    "for i in sung:\n",
    "    for j in name:\n",
    "        print(i+j)\n",
    "                "
   ]
  },
  {
   "cell_type": "code",
   "execution_count": null,
   "id": "593e9792",
   "metadata": {},
   "outputs": [],
   "source": [
    "# While True:\n",
    "#     프로그램이 계속 돌아가게 프로그램 짤 때 위를 쓴다"
   ]
  },
  {
   "cell_type": "code",
   "execution_count": null,
   "id": "c036b1e6",
   "metadata": {},
   "outputs": [],
   "source": [
    "import random\n",
    "energy = 10\n",
    "print(\"당신의 에너지는 10입니다. 공격을 시작하세요!\")\n",
    "\n",
    "while energy > 0:\n",
    "    input(\"공격하려면 엔터를 누르세요...\")\n",
    "    damage = random.randint(1,3)\n",
    "#     1부터 3 사이 랜덤값 생성하여 damage에 할당해라\n",
    "    energy -= damage\n",
    "    print(f\"당신은 {damage}의 데미지를 받았습니다. 현재 에너지는 {energy}.\")\n",
    "    \n",
    "    if energy <= 0:\n",
    "        print(\"당신은 죽었습니다. 게임 오버.\")"
   ]
  },
  {
   "cell_type": "code",
   "execution_count": null,
   "id": "71c677bf",
   "metadata": {},
   "outputs": [],
   "source": [
    "import random\n",
    "energy = 10\n",
    "print(\"당신의 에너지는 10입니다. 1 눌러 공격, 2 눌러 도망가세요.\")\n",
    "\n",
    "# 1을 누르면 공격, 2 누르면 도망이 뜨게 해야함 \n",
    "\n",
    "while energy > 0:\n",
    "    num = int(input(\"1을 누르면 공격, 2 누르면 도망.\"))\n",
    "#     이걸 처음에 while 위에 썼었는데, 프로그램이 돌아가면 사용자에게 입력을 받는 개념이므로 while 아래에 써야함!!\n",
    "    if num == 1:    \n",
    "        damage = random.randint(1,3)\n",
    "        energy -= damage\n",
    "        print(f\"공격을 선택하여 {damage}의 데미지를 받았습니다. 현재 에너지는 {energy}.\")\n",
    "#         위 print문을 탭하여 indentation 만들 필요가 없음!!\n",
    "\n",
    "    elif num == 2:\n",
    "        damage = 0\n",
    "        energy -= damage\n",
    "        print(f\"도망을 선택하여 {damage}의 데미지를 받았습니다. 현재 에너지는 {energy}.\")\n",
    "    \n",
    "    \n",
    "    elif energy <= 0:\n",
    "        print(\"당신은 죽었습니다. 게임 오버.\")"
   ]
  },
  {
   "cell_type": "code",
   "execution_count": 5,
   "id": "ab22a459",
   "metadata": {},
   "outputs": [
    {
     "name": "stdout",
     "output_type": "stream",
     "text": [
      "당신의 에너지는 10입니다. 1 눌러 공격, 2 눌러 도망가세요.\n",
      "1번 공격, 2번 도망가기1\n",
      "당신은 2의 데미지를 받았습니다. 현재 에너지는 8입니다.\n",
      "1번 공격, 2번 도망가기1\n",
      "당신은 2의 데미지를 받았습니다. 현재 에너지는 6입니다.\n",
      "1번 공격, 2번 도망가기1\n",
      "당신은 3의 데미지를 받았습니다. 현재 에너지는 3입니다.\n",
      "1번 공격, 2번 도망가기1\n",
      "당신은 3의 데미지를 받았습니다. 현재 에너지는 0입니다.\n",
      "게임오버\n"
     ]
    }
   ],
   "source": [
    "import random\n",
    "\n",
    "energy = 10\n",
    "print(\"당신의 에너지는 10입니다. 1 눌러 공격, 2 눌러 도망가세요.\")\n",
    "\n",
    "while energy > 0:\n",
    "    num = int(input(\"1번 공격, 2번 도망가기\"))\n",
    "    \n",
    "    if num == 1:\n",
    "        damage = random.randint(1,3)\n",
    "        energy -= damage\n",
    "        print(f\"당신은 {damage}의 데미지를 받았습니다. 현재 에너지는 {energy}입니다.\")\n",
    "        \n",
    "        if energy <= 0:\n",
    "            print(\"게임오버\")\n",
    "            \n",
    "        \n",
    "    elif num == 2:\n",
    "        print(f\"도망갔습니다. 현재 에너지는 {energy}입니다.\")\n",
    "        break\n",
    "    \n",
    "    else:\n",
    "        print(\"다른 키를 눌러주세요. 1번 or 2번\")"
   ]
  },
  {
   "cell_type": "markdown",
   "id": "8fe9ce31",
   "metadata": {},
   "source": []
  },
  {
   "cell_type": "code",
   "execution_count": null,
   "id": "f322c9f3",
   "metadata": {},
   "outputs": [],
   "source": []
  }
 ],
 "metadata": {
  "kernelspec": {
   "display_name": "Python 3 (ipykernel)",
   "language": "python",
   "name": "python3"
  },
  "language_info": {
   "codemirror_mode": {
    "name": "ipython",
    "version": 3
   },
   "file_extension": ".py",
   "mimetype": "text/x-python",
   "name": "python",
   "nbconvert_exporter": "python",
   "pygments_lexer": "ipython3",
   "version": "3.9.12"
  }
 },
 "nbformat": 4,
 "nbformat_minor": 5
}
