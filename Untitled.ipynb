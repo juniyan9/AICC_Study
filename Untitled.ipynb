{
 "cells": [
  {
   "cell_type": "code",
   "execution_count": 1,
   "id": "40c4df6a",
   "metadata": {},
   "outputs": [],
   "source": [
    "names = \"이유덕,이재영,권종표,이재영,박민호,강상희,이재영,김지완,최승혁,이성연,박영서,박민호,전경헌,송정환,김재성,이유덕,전경헌\""
   ]
  },
  {
   "cell_type": "code",
   "execution_count": 2,
   "id": "7d2f12c3",
   "metadata": {},
   "outputs": [],
   "source": [
    "score = [80, 60, 70, 50, 100, 95, 40, 75, 90, 65, 90, 100]"
   ]
  },
  {
   "cell_type": "code",
   "execution_count": 3,
   "id": "2ee201dd",
   "metadata": {},
   "outputs": [],
   "source": [
    "count = 0\n",
    "total = 0"
   ]
  },
  {
   "cell_type": "code",
   "execution_count": 4,
   "id": "b433f6eb",
   "metadata": {},
   "outputs": [
    {
     "name": "stdout",
     "output_type": "stream",
     "text": [
      "1 80 80\n",
      "2 60 140\n",
      "3 70 210\n",
      "4 50 260\n",
      "5 100 360\n",
      "6 95 455\n",
      "7 40 495\n",
      "8 75 570\n",
      "9 90 660\n",
      "10 65 725\n",
      "11 90 815\n",
      "12 100 915\n"
     ]
    }
   ],
   "source": [
    "for i in score:\n",
    "    count += 1\n",
    "    total += i\n",
    "    print(count, i, total)"
   ]
  },
  {
   "cell_type": "code",
   "execution_count": null,
   "id": "e034fcd1",
   "metadata": {},
   "outputs": [],
   "source": []
  },
  {
   "cell_type": "code",
   "execution_count": null,
   "id": "a0952b0d",
   "metadata": {},
   "outputs": [],
   "source": []
  }
 ],
 "metadata": {
  "kernelspec": {
   "display_name": "Python 3 (ipykernel)",
   "language": "python",
   "name": "python3"
  },
  "language_info": {
   "codemirror_mode": {
    "name": "ipython",
    "version": 3
   },
   "file_extension": ".py",
   "mimetype": "text/x-python",
   "name": "python",
   "nbconvert_exporter": "python",
   "pygments_lexer": "ipython3",
   "version": "3.9.12"
  }
 },
 "nbformat": 4,
 "nbformat_minor": 5
}
