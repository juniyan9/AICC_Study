{
 "cells": [
  {
   "cell_type": "markdown",
   "id": "e2aec422",
   "metadata": {},
   "source": [
    "# 함수형식"
   ]
  },
  {
   "cell_type": "code",
   "execution_count": 1,
   "id": "e85123b4",
   "metadata": {},
   "outputs": [],
   "source": [
    "#1\n",
    "def 함수_이름(매개변수):\n",
    "    수행할_문장1\n",
    "    수행할_문장2\n",
    "    ..."
   ]
  },
  {
   "cell_type": "code",
   "execution_count": 2,
   "id": "5e760eda",
   "metadata": {},
   "outputs": [],
   "source": [
    "#2\n",
    "def add(a, b): \n",
    "    result = a + b \n",
    "    return result"
   ]
  },
  {
   "cell_type": "code",
   "execution_count": 3,
   "id": "65f695a7",
   "metadata": {},
   "outputs": [],
   "source": [
    "def minus(a,b):\n",
    "    calc = a-b\n",
    "    return calc"
   ]
  },
  {
   "cell_type": "code",
   "execution_count": 4,
   "id": "276666d0",
   "metadata": {},
   "outputs": [
    {
     "data": {
      "text/plain": [
       "8"
      ]
     },
     "execution_count": 4,
     "metadata": {},
     "output_type": "execute_result"
    }
   ],
   "source": [
    "minus(10,2)"
   ]
  },
  {
   "cell_type": "code",
   "execution_count": 5,
   "id": "ac5d0be4",
   "metadata": {},
   "outputs": [],
   "source": [
    "def multi(a,b):\n",
    "    calc = a * b\n",
    "    return calc"
   ]
  },
  {
   "cell_type": "code",
   "execution_count": 6,
   "id": "28a672a0",
   "metadata": {},
   "outputs": [
    {
     "data": {
      "text/plain": [
       "6"
      ]
     },
     "execution_count": 6,
     "metadata": {},
     "output_type": "execute_result"
    }
   ],
   "source": [
    "multi(2,3)"
   ]
  },
  {
   "cell_type": "code",
   "execution_count": 7,
   "id": "7127ab69",
   "metadata": {},
   "outputs": [],
   "source": [
    "#입력값이 없는 함수\n",
    "def say():\n",
    "    return 'Hi'"
   ]
  },
  {
   "cell_type": "code",
   "execution_count": 8,
   "id": "5e83a28f",
   "metadata": {},
   "outputs": [],
   "source": [
    "def add2(a,b):\n",
    "    calc = a + b\n",
    "    print(\"%d, %d의 합은 %d입니다.\" % (a, b, calc))\n",
    "    return calc   #return을 쓰면 pri nt(d) 결과가 제대로 나오고, 안 쓰면 none으로 결과가 나옴.\n",
    "# 요렇게 한 번 지정해두면 add2(m,n)만 입력하면 print()에 저장한 포맷으로 값이 계속 나옴."
   ]
  },
  {
   "cell_type": "code",
   "execution_count": 9,
   "id": "dcedf43c",
   "metadata": {},
   "outputs": [
    {
     "name": "stdout",
     "output_type": "stream",
     "text": [
      "3, 4의 합은 7입니다.\n"
     ]
    },
    {
     "data": {
      "text/plain": [
       "7"
      ]
     },
     "execution_count": 9,
     "metadata": {},
     "output_type": "execute_result"
    }
   ],
   "source": [
    "add2(3,4)    "
   ]
  },
  {
   "cell_type": "code",
   "execution_count": 10,
   "id": "2146292c",
   "metadata": {},
   "outputs": [
    {
     "name": "stdout",
     "output_type": "stream",
     "text": [
      "3, 4의 합은 7입니다.\n"
     ]
    }
   ],
   "source": [
    "d = add2(3,4)\n"
   ]
  },
  {
   "cell_type": "code",
   "execution_count": 11,
   "id": "b07cff99",
   "metadata": {},
   "outputs": [
    {
     "name": "stdout",
     "output_type": "stream",
     "text": [
      "7\n"
     ]
    }
   ],
   "source": [
    "print(d)"
   ]
  },
  {
   "cell_type": "code",
   "execution_count": null,
   "id": "fec09c18",
   "metadata": {},
   "outputs": [],
   "source": []
  },
  {
   "cell_type": "code",
   "execution_count": 12,
   "id": "d748ee0b",
   "metadata": {},
   "outputs": [],
   "source": [
    "def add_and_mul (a,b):\n",
    "    return a+b, a*b"
   ]
  },
  {
   "cell_type": "code",
   "execution_count": 13,
   "id": "13c79e1c",
   "metadata": {},
   "outputs": [
    {
     "data": {
      "text/plain": [
       "(7, 12)"
      ]
     },
     "execution_count": 13,
     "metadata": {},
     "output_type": "execute_result"
    }
   ],
   "source": [
    "add_and_mul(3,4)"
   ]
  },
  {
   "cell_type": "code",
   "execution_count": 14,
   "id": "8ecf0e5b",
   "metadata": {},
   "outputs": [],
   "source": [
    "# 함수 : 어떤 숫자를 받아 값을 리턴하는 것.\n",
    "#     그래서 리턴값이 두개면 첫번째것만 리턴해줌."
   ]
  },
  {
   "cell_type": "code",
   "execution_count": 15,
   "id": "d235bb2f",
   "metadata": {},
   "outputs": [],
   "source": [
    "def say_myself(name, age, man=True):\n",
    "    print(\"나의 이름은 %s 입니다.\" % name)\n",
    "    print(\"나이는 %d 살입니다.\" % age)\n",
    "    if man:\n",
    "        print(\"남자입니다.\")\n",
    "    else:\n",
    "        print(\"여자입니다.\")"
   ]
  },
  {
   "cell_type": "code",
   "execution_count": 18,
   "id": "65884f64",
   "metadata": {},
   "outputs": [
    {
     "name": "stdout",
     "output_type": "stream",
     "text": [
      "나의 이름은 홍길동 입니다.\n",
      "나이는 24 살입니다.\n",
      "남자입니다.\n"
     ]
    }
   ],
   "source": [
    "say_myself('홍길동', 24, True)\n",
    "# True를 안 넣어도 '남자입니다.' 까지 나오긴 함.\n",
    "# 디폴트값(man=True)까지 지정해주어서 그런대."
   ]
  },
  {
   "cell_type": "code",
   "execution_count": 20,
   "id": "0369d828",
   "metadata": {},
   "outputs": [
    {
     "name": "stdout",
     "output_type": "stream",
     "text": [
      "나의 이름은 심청 입니다.\n",
      "나이는 24 살입니다.\n",
      "여자입니다.\n"
     ]
    }
   ],
   "source": [
    "say_myself('심청', 24, False)\n",
    "# 뒤에 false 값이라고 넣어주면 디폴트값 무시하고 결과 출력."
   ]
  },
  {
   "cell_type": "code",
   "execution_count": 21,
   "id": "7cc5274f",
   "metadata": {},
   "outputs": [],
   "source": [
    "# 초깃값이 없는 매개변수(age)는 초깃값이 있는 매개변수(man) 뒤에 사용할 수 없다\n",
    "# 즉, 매개변수로 (name, age, man=True)는 되지만, (name, man=True, age)는 안 된다는 것이다\n",
    "# 초기화하고 싶은 매개변수는 항상 뒤쪽에 놓아야 한다는 것을 잊지 말자."
   ]
  },
  {
   "cell_type": "markdown",
   "id": "f93e4920",
   "metadata": {},
   "source": [
    "<h1> 전역변수 vs 지역변수 </h1>"
   ]
  },
  {
   "cell_type": "code",
   "execution_count": 33,
   "id": "dbc8017d",
   "metadata": {
    "scrolled": true
   },
   "outputs": [
    {
     "data": {
      "text/plain": [
       "2"
      ]
     },
     "execution_count": 33,
     "metadata": {},
     "output_type": "execute_result"
    }
   ],
   "source": [
    "a = 1\n",
    "def vartest(a):\n",
    "    return a + 1\n",
    "# 함수에서 print는 곧 return!!!\n",
    "\n",
    "vartest(a)"
   ]
  },
  {
   "cell_type": "code",
   "execution_count": null,
   "id": "5dbf7769",
   "metadata": {},
   "outputs": [],
   "source": [
    "# ▲ 출력값이 a가 나오는 이유는 vartest()라는 함수에 속한 a는 그 함수 안에서만 사용하므로 \n",
    "# print 결과값에는 영향을 미치지 못한다."
   ]
  },
  {
   "cell_type": "code",
   "execution_count": 34,
   "id": "863145d3",
   "metadata": {
    "scrolled": true
   },
   "outputs": [
    {
     "name": "stdout",
     "output_type": "stream",
     "text": [
      "2\n"
     ]
    }
   ],
   "source": [
    "print(vartest(a))"
   ]
  },
  {
   "cell_type": "code",
   "execution_count": null,
   "id": "f3b2f1f8",
   "metadata": {},
   "outputs": [],
   "source": []
  },
  {
   "cell_type": "markdown",
   "id": "6315af12",
   "metadata": {},
   "source": [
    "# insert 함수"
   ]
  },
  {
   "cell_type": "code",
   "execution_count": 42,
   "id": "31614ac4",
   "metadata": {},
   "outputs": [
    {
     "name": "stdout",
     "output_type": "stream",
     "text": [
      "[0, 1, 5, 3]\n"
     ]
    }
   ],
   "source": [
    "list1 = []\n",
    "\n",
    "list1.insert(0,0)\n",
    "list1.insert(5,5)\n",
    "list1.insert(3,3)\n",
    "list1.insert(1,1)\n",
    "\n",
    "\n",
    "print(list1)\n"
   ]
  },
  {
   "cell_type": "code",
   "execution_count": null,
   "id": "0d584467",
   "metadata": {},
   "outputs": [],
   "source": []
  }
 ],
 "metadata": {
  "kernelspec": {
   "display_name": "Python 3 (ipykernel)",
   "language": "python",
   "name": "python3"
  },
  "language_info": {
   "codemirror_mode": {
    "name": "ipython",
    "version": 3
   },
   "file_extension": ".py",
   "mimetype": "text/x-python",
   "name": "python",
   "nbconvert_exporter": "python",
   "pygments_lexer": "ipython3",
   "version": "3.9.12"
  }
 },
 "nbformat": 4,
 "nbformat_minor": 5
}
