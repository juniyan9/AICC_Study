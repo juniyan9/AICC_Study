{
 "cells": [
  {
   "cell_type": "code",
   "execution_count": 1,
   "id": "088df20c",
   "metadata": {},
   "outputs": [],
   "source": [
    "# 쥬피터노트 py 파일로 저장하는 법\n",
    "# file -> download as -> Python(.py)"
   ]
  },
  {
   "cell_type": "code",
   "execution_count": 2,
   "id": "19249bd3",
   "metadata": {},
   "outputs": [],
   "source": [
    "# 모듈이란 함수나 변수 또는 클래스를 모아 놓은 파이썬 파일이다. \n",
    "# 모듈은 다른 파이썬 프로그램에서 불러와 사용할 수 있도록 만든 파이썬 파일이라고도 할 수 있다. "
   ]
  },
  {
   "cell_type": "code",
   "execution_count": null,
   "id": "5085dce8",
   "metadata": {},
   "outputs": [],
   "source": []
  },
  {
   "cell_type": "code",
   "execution_count": 3,
   "id": "ca58df57",
   "metadata": {},
   "outputs": [],
   "source": [
    "# mod1.py\n",
    "def add(a, b):\n",
    "    return a + b\n",
    "\n",
    "def sub(a, b): \n",
    "    return a-b"
   ]
  },
  {
   "cell_type": "code",
   "execution_count": 4,
   "id": "e77419b8",
   "metadata": {},
   "outputs": [],
   "source": [
    "import Module"
   ]
  },
  {
   "cell_type": "code",
   "execution_count": 5,
   "id": "60e5a399",
   "metadata": {},
   "outputs": [
    {
     "data": {
      "text/plain": [
       "7"
      ]
     },
     "execution_count": 5,
     "metadata": {},
     "output_type": "execute_result"
    }
   ],
   "source": [
    "Module.add(3,4)"
   ]
  },
  {
   "cell_type": "code",
   "execution_count": 6,
   "id": "800bc2c5",
   "metadata": {},
   "outputs": [
    {
     "name": "stdout",
     "output_type": "stream",
     "text": [
      "7\n",
      "2\n"
     ]
    },
    {
     "data": {
      "text/plain": [
       "2"
      ]
     },
     "execution_count": 6,
     "metadata": {},
     "output_type": "execute_result"
    }
   ],
   "source": [
    "import Module\n",
    ">>> print(Module.add(3, 4))\n",
    "7\n",
    ">>> print(Module.sub(4, 2))\n",
    "2"
   ]
  },
  {
   "cell_type": "markdown",
   "id": "367a7f55",
   "metadata": {},
   "source": [
    "# 패키지 = 모듈의 집합.\n",
    "# 판다스: 패키지 일종"
   ]
  },
  {
   "cell_type": "code",
   "execution_count": 7,
   "id": "3b0399bd",
   "metadata": {},
   "outputs": [],
   "source": [
    "import pandas as pd"
   ]
  },
  {
   "cell_type": "code",
   "execution_count": 8,
   "id": "999a2907",
   "metadata": {},
   "outputs": [],
   "source": [
    "score = [80, 60, 70, 50, 100]"
   ]
  },
  {
   "cell_type": "code",
   "execution_count": 9,
   "id": "e705c96f",
   "metadata": {},
   "outputs": [
    {
     "data": {
      "text/plain": [
       "[80, 60, 70, 50, 100]"
      ]
     },
     "execution_count": 9,
     "metadata": {},
     "output_type": "execute_result"
    }
   ],
   "source": [
    "score"
   ]
  },
  {
   "cell_type": "code",
   "execution_count": 10,
   "id": "65d543db",
   "metadata": {},
   "outputs": [
    {
     "data": {
      "text/plain": [
       "0    72.0\n",
       "dtype: float64"
      ]
     },
     "execution_count": 10,
     "metadata": {},
     "output_type": "execute_result"
    }
   ],
   "source": [
    "pd.DataFrame(score).mean()"
   ]
  },
  {
   "cell_type": "markdown",
   "id": "7409c03b",
   "metadata": {},
   "source": [
    "# 외부 라이브러리"
   ]
  },
  {
   "cell_type": "code",
   "execution_count": null,
   "id": "6ca5feba",
   "metadata": {},
   "outputs": [],
   "source": [
    "# 아나콘다라는 외부라이브러리가 기설치 되어있음.\n",
    "# 외부 라이브러리는 당연히 설치 및 import를 해야한다."
   ]
  },
  {
   "cell_type": "code",
   "execution_count": null,
   "id": "a8eb7fb7",
   "metadata": {},
   "outputs": [],
   "source": []
  },
  {
   "cell_type": "code",
   "execution_count": null,
   "id": "78a4d5f7",
   "metadata": {},
   "outputs": [],
   "source": []
  },
  {
   "cell_type": "code",
   "execution_count": null,
   "id": "8efd97f8",
   "metadata": {},
   "outputs": [],
   "source": []
  },
  {
   "cell_type": "code",
   "execution_count": null,
   "id": "11674af9",
   "metadata": {},
   "outputs": [],
   "source": []
  }
 ],
 "metadata": {
  "kernelspec": {
   "display_name": "Python 3 (ipykernel)",
   "language": "python",
   "name": "python3"
  },
  "language_info": {
   "codemirror_mode": {
    "name": "ipython",
    "version": 3
   },
   "file_extension": ".py",
   "mimetype": "text/x-python",
   "name": "python",
   "nbconvert_exporter": "python",
   "pygments_lexer": "ipython3",
   "version": "3.9.12"
  }
 },
 "nbformat": 4,
 "nbformat_minor": 5
}
